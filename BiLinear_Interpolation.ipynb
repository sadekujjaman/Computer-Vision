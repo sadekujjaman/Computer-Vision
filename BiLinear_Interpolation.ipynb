{
  "nbformat": 4,
  "nbformat_minor": 0,
  "metadata": {
    "colab": {
      "name": "BiLinear_Interpolation.ipynb",
      "provenance": [],
      "collapsed_sections": [],
      "authorship_tag": "ABX9TyOAbRWDebUoc7vHI7XPP1Ay"
    },
    "kernelspec": {
      "name": "python3",
      "display_name": "Python 3"
    }
  },
  "cells": [
    {
      "cell_type": "code",
      "metadata": {
        "id": "tF3iLasiG4TC",
        "colab_type": "code",
        "colab": {}
      },
      "source": [
        "import numpy as np\n",
        "import math\n",
        "\n",
        "# https://theailearner.com/2018/12/29/image-processing-bilinear-interpolation/"
      ],
      "execution_count": 70,
      "outputs": []
    },
    {
      "cell_type": "code",
      "metadata": {
        "id": "0mOBfYk0QRaH",
        "colab_type": "code",
        "colab": {}
      },
      "source": [
        "def set_border(arr):\n",
        "  row, col = arr.shape\n",
        "  br = row + 2\n",
        "  bc = col + 2\n",
        "  border_arr = np.zeros((br, bc))\n",
        "  \n",
        "  for i in range(br):\n",
        "    for j in range(bc):\n",
        "      if i == 0 and j == 0:\n",
        "        border_arr[i][j] = arr[0][0]\n",
        "      elif i == 0 and j == bc - 1:\n",
        "        border_arr[i][j] = arr[0][col - 1]\n",
        "      elif i == br - 1 and j == 0 :\n",
        "        border_arr[i][j] = arr[row - 1][0]\n",
        "      elif i == br - 1 and j == bc - 1:\n",
        "        border_arr[i][j] = arr[row - 1][col - 1]\n",
        "      elif i == 0:\n",
        "        border_arr[i][j] = arr[0][j - 1]\n",
        "      elif i == br - 1:\n",
        "        border_arr[i][j] = arr[row - 1][j - 1]\n",
        "      elif j == 0:\n",
        "        border_arr[i][j] = arr[i - 1][0]\n",
        "      elif j == bc - 1:\n",
        "        border_arr[i][j] = arr[i - 1][col-1]\n",
        "      else:\n",
        "        border_arr[i][j] = arr[i - 1][j - 1]\n",
        "\n",
        "  return border_arr\n"
      ],
      "execution_count": 71,
      "outputs": []
    },
    {
      "cell_type": "code",
      "metadata": {
        "id": "BcVOfFYKlx0W",
        "colab_type": "code",
        "colab": {}
      },
      "source": [
        "def calculate_right_weight(row, col):\n",
        "  dx_=np.zeros(col)\n",
        "  dy_=np.zeros(row)\n",
        "  scale_x = 0.5\n",
        "  scale_y = 0.5\n",
        "  for i in range(col):\n",
        "    fx = ((i + 0.5) * scale_x - 0.5)\n",
        "    sx = math.floor(fx)\n",
        "    fx = fx - sx\n",
        "    dx_[i] = fx\n",
        "    \n",
        "  for i in range(row):\n",
        "    fy = ((i + 0.5) * scale_y - 0.5)\n",
        "    sy = math.floor(fy)\n",
        "    fy = fy - sy\n",
        "    dy_[i] = fy\n",
        "  return dx_, dy_"
      ],
      "execution_count": 72,
      "outputs": []
    },
    {
      "cell_type": "code",
      "metadata": {
        "id": "WLMPok3RcqBl",
        "colab_type": "code",
        "colab": {}
      },
      "source": [
        "def calculate_pixel_val(i,j, temp, dx_, dy_):\n",
        "  right_w = dx_[j]\n",
        "  left_w = 1 - right_w\n",
        "\n",
        "  x_top = (temp[0][0] * left_w) + (temp[0][1] * right_w)\n",
        "  x_bottom = (temp[1][0] * left_w) + (temp[1][1] * right_w)\n",
        "\n",
        "  right_w = dy_[i]\n",
        "  left_w = 1 - right_w\n",
        "  val = (x_top * left_w) + (x_bottom * right_w)\n",
        "  return math.floor(val)"
      ],
      "execution_count": 73,
      "outputs": []
    },
    {
      "cell_type": "code",
      "metadata": {
        "id": "3qWiRQx4kQMA",
        "colab_type": "code",
        "colab": {}
      },
      "source": [
        "def get_upscaled_arr(arr):\n",
        "  row, col = arr.shape\n",
        "  new_row, new_col = row * 2, col * 2\n",
        "\n",
        "  brr = set_border(arr)\n",
        "  dx_, dy_ = calculate_right_weight(new_row, new_col)\n",
        "  # print(brr)\n",
        "  # print(dx_)\n",
        "  # print(dy_)\n",
        "  up_scaled_arr = np.zeros((new_row, new_col))\n",
        "\n",
        "  for i in range(row + 1):\n",
        "    for j in range(col + 1):\n",
        "      temp = brr[i:i+2, j: j + 2]\n",
        "      # print(temp)\n",
        "      if i == 0 and j == 0:\n",
        "        up_scaled_arr[(2 * i)][(2 * j)] = calculate_pixel_val((2 * i), (2 * j), temp, dx_, dy_)\n",
        "      elif i == 0 and j == col:\n",
        "        up_scaled_arr[(2 * i)][(2 * j) - 1] = calculate_pixel_val((2 * i), (2 * j) - 1, temp, dx_, dy_)\n",
        "      elif i == row and j == 0:\n",
        "        up_scaled_arr[(2 * i) - 1][(2 * j)] = calculate_pixel_val((2 * i) - 1, (2 * j), temp, dx_, dy_)\n",
        "      elif i == row and j == col:\n",
        "        up_scaled_arr[(2 * i) - 1][(2 * j)-1] = calculate_pixel_val((2 * i)-1, (2 * j) - 1, temp, dx_, dy_)\n",
        "      elif i == 0:\n",
        "        up_scaled_arr[(2 * i)][(2 * j) - 1] = calculate_pixel_val((2 * i), (2 * j) - 1, temp, dx_, dy_)\n",
        "        up_scaled_arr[(2 * i)][(2 * j)] = calculate_pixel_val((2 * i), (2 * j), temp, dx_, dy_)\n",
        "      elif i == row:\n",
        "        up_scaled_arr[(2 * i) - 1][(2 * j) - 1] = calculate_pixel_val((2 * i) - 1, (2 * j) - 1, temp, dx_, dy_)\n",
        "        up_scaled_arr[(2 * i) - 1][(2 * j)] = calculate_pixel_val((2 * i) - 1, (2 * j), temp, dx_, dy_)\n",
        "      elif j == 0:\n",
        "        up_scaled_arr[(2 * i) - 1][(2 * j)] = calculate_pixel_val((2 * i) - 1, (2 * j), temp, dx_, dy_)\n",
        "        up_scaled_arr[(2 * i)][(2 * j)] = calculate_pixel_val((2 * i), (2 * j), temp, dx_, dy_)\n",
        "      elif j == col:\n",
        "        up_scaled_arr[(2 * i) - 1][(2 * j) - 1] = calculate_pixel_val((2 * i) - 1, (2 * j) - 1, temp, dx_, dy_)\n",
        "        up_scaled_arr[(2 * i)][(2 * j) - 1] = calculate_pixel_val((2 * i), (2 * j) - 1, temp, dx_, dy_)\n",
        "      else:\n",
        "        up_scaled_arr[(2 * i) - 1][(2 * j) - 1] = calculate_pixel_val((2 * i) - 1, (2 * j) - 1, temp, dx_, dy_)\n",
        "        up_scaled_arr[(2 * i) - 1][(2 * j)] = calculate_pixel_val((2 * i) - 1, (2 * j), temp, dx_, dy_)\n",
        "        up_scaled_arr[(2 * i)][(2 * j) - 1] = calculate_pixel_val((2 * i), (2 * j) - 1, temp, dx_, dy_)\n",
        "        up_scaled_arr[(2 * i)][(2 * j)] = calculate_pixel_val((2 * i), (2 * j), temp, dx_, dy_)\n",
        "\n",
        "  # print(up_scaled_arr)\n",
        "  return up_scaled_arr"
      ],
      "execution_count": 74,
      "outputs": []
    },
    {
      "cell_type": "code",
      "metadata": {
        "id": "z16dA3LPnSDR",
        "colab_type": "code",
        "colab": {
          "base_uri": "https://localhost:8080/",
          "height": 127
        },
        "outputId": "089072b2-8c2b-45b4-b11b-539038cd9326"
      },
      "source": [
        "arr = np.array([[10, 20],\n",
        "                [30, 40]])\n",
        "print(arr)\n",
        "up_arr = get_upscaled_arr(arr)\n",
        "print(up_arr)"
      ],
      "execution_count": 75,
      "outputs": [
        {
          "output_type": "stream",
          "text": [
            "[[10 20]\n",
            " [30 40]]\n",
            "[[10. 12. 17. 20.]\n",
            " [15. 17. 22. 25.]\n",
            " [25. 27. 32. 35.]\n",
            " [30. 32. 37. 40.]]\n"
          ],
          "name": "stdout"
        }
      ]
    },
    {
      "cell_type": "code",
      "metadata": {
        "id": "kUwXuQLMkz4f",
        "colab_type": "code",
        "colab": {
          "base_uri": "https://localhost:8080/",
          "height": 237
        },
        "outputId": "a264ec29-b338-4ae3-b7e4-df124944e8d3"
      },
      "source": [
        "crr = np.array([[10, 20, 30, 40],\n",
        "                [50, 60, 70, 80],\n",
        "                [90, 100, 110, 120],\n",
        "                [130, 140, 150, 160]])\n",
        "print(crr)\n",
        "up_crr = get_upscaled_arr(crr)\n",
        "print(up_crr)"
      ],
      "execution_count": 76,
      "outputs": [
        {
          "output_type": "stream",
          "text": [
            "[[ 10  20  30  40]\n",
            " [ 50  60  70  80]\n",
            " [ 90 100 110 120]\n",
            " [130 140 150 160]]\n",
            "[[ 10.  12.  17.  22.  27.  32.  37.  40.]\n",
            " [ 20.  22.  27.  32.  37.  42.  47.  50.]\n",
            " [ 40.  42.  47.  52.  57.  62.  67.  70.]\n",
            " [ 60.  62.  67.  72.  77.  82.  87.  90.]\n",
            " [ 80.  82.  87.  92.  97. 102. 107. 110.]\n",
            " [100. 102. 107. 112. 117. 122. 127. 130.]\n",
            " [120. 122. 127. 132. 137. 142. 147. 150.]\n",
            " [130. 132. 137. 142. 147. 152. 157. 160.]]\n"
          ],
          "name": "stdout"
        }
      ]
    }
  ]
}