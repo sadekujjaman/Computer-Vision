{
  "nbformat": 4,
  "nbformat_minor": 0,
  "metadata": {
    "colab": {
      "name": "2D_convolution.ipynb",
      "provenance": [],
      "authorship_tag": "ABX9TyMkFB83Ptw899GQ4wf04gjI"
    },
    "kernelspec": {
      "name": "python3",
      "display_name": "Python 3"
    }
  },
  "cells": [
    {
      "cell_type": "markdown",
      "metadata": {
        "id": "kaYI4BqnH9mI",
        "colab_type": "text"
      },
      "source": [
        "**Two Dimension Convolution Function**\n"
      ]
    },
    {
      "cell_type": "code",
      "metadata": {
        "id": "i4uLkUK2F9dE",
        "colab_type": "code",
        "colab": {}
      },
      "source": [
        "def two_dimensional_convolution(x, h):\n",
        "  \"\"\"\n",
        "  x is input\n",
        "  h is kernel\n",
        "  \"\"\"\n",
        "  # print(\"Hello\")\n",
        "\n",
        "  kernel_row = len(h)\n",
        "  kernel_col = len(h[0])\n",
        "  kernel_center_X = int(kernel_col / 2)\n",
        "  kernel_center_Y = int(kernel_row / 2)\n",
        "  # print(kernel_row, kernel_col, kernel_center_X, kernel_center_Y)\n",
        "  row = len(x)\n",
        "  col = len(x[0])\n",
        "  output = [[0] * col for i in range(row)]\n",
        "  # print(output)\n",
        "  for i in range(0, row):\n",
        "    for j in range(0, col):\n",
        "      for m in range(0, kernel_row):\n",
        "        mm = kernel_row - 1 - m\n",
        "        for n in range(0, kernel_col):\n",
        "          nn = kernel_col - 1 - n\n",
        "          ii = i + (kernel_center_Y - mm)\n",
        "          jj = j + (kernel_center_X - nn)\n",
        "          if(ii >= 0 and ii < row and jj >= 0 and jj < col):\n",
        "            output[i][j] += x[ii][jj] * h[mm][nn]\n",
        "    \n",
        "  # print(output)\n",
        "\n",
        "  return output"
      ],
      "execution_count": 0,
      "outputs": []
    },
    {
      "cell_type": "code",
      "metadata": {
        "id": "kro_iHcbKxo4",
        "colab_type": "code",
        "colab": {}
      },
      "source": [
        "def sum2d(matrix):\n",
        "  sum = 0\n",
        "  for i in range(0, len(matrix)):\n",
        "    for j in range(0, len(matrix[0])):\n",
        "      sum += matrix[i][j]\n",
        "  return sum"
      ],
      "execution_count": 0,
      "outputs": []
    },
    {
      "cell_type": "markdown",
      "metadata": {
        "id": "UqMDvtgiIDQl",
        "colab_type": "text"
      },
      "source": [
        "**Two Dimension Convolution Test**"
      ]
    },
    {
      "cell_type": "code",
      "metadata": {
        "id": "PYH-17VfIHM7",
        "colab_type": "code",
        "colab": {
          "base_uri": "https://localhost:8080/",
          "height": 52
        },
        "outputId": "dd026242-a997-4404-8fa8-65988d4eff8f"
      },
      "source": [
        "x=[[1, 2, 3], [4, 5, 6], [7, 8, 9]]\n",
        "h=[[-1, -2, -1], [0, 0, 0], [1, 2, 1]]\n",
        "output = two_dimensional_convolution(x, h)\n",
        "print(output)\n",
        "print(sum2d(output))"
      ],
      "execution_count": 16,
      "outputs": [
        {
          "output_type": "stream",
          "text": [
            "[[-13, -20, -17], [-18, -24, -18], [13, 20, 17]]\n",
            "-60\n"
          ],
          "name": "stdout"
        }
      ]
    }
  ]
}